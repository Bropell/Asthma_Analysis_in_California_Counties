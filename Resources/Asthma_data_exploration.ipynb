{
 "cells": [
  {
   "cell_type": "code",
   "execution_count": 3,
   "id": "d8be9392",
   "metadata": {},
   "outputs": [],
   "source": [
    "#import dependencies\n",
    "import pandas as pd\n",
    "import seaborn as sns"
   ]
  },
  {
   "cell_type": "code",
   "execution_count": 4,
   "id": "208a1739",
   "metadata": {},
   "outputs": [
    {
     "data": {
      "text/html": [
       "<div>\n",
       "<style scoped>\n",
       "    .dataframe tbody tr th:only-of-type {\n",
       "        vertical-align: middle;\n",
       "    }\n",
       "\n",
       "    .dataframe tbody tr th {\n",
       "        vertical-align: top;\n",
       "    }\n",
       "\n",
       "    .dataframe thead th {\n",
       "        text-align: right;\n",
       "    }\n",
       "</style>\n",
       "<table border=\"1\" class=\"dataframe\">\n",
       "  <thead>\n",
       "    <tr style=\"text-align: right;\">\n",
       "      <th></th>\n",
       "      <th>COUNTY</th>\n",
       "      <th>YEARS</th>\n",
       "      <th>STRATA</th>\n",
       "      <th>AGE GROUP</th>\n",
       "      <th>CURRENT PREVALENCE</th>\n",
       "      <th>95% CONFIDENCE INTERVAL</th>\n",
       "      <th>COUNTIES GROUPED</th>\n",
       "      <th>COMMENT</th>\n",
       "    </tr>\n",
       "  </thead>\n",
       "  <tbody>\n",
       "    <tr>\n",
       "      <th>0</th>\n",
       "      <td>California</td>\n",
       "      <td>2015–2016</td>\n",
       "      <td>Total population</td>\n",
       "      <td>All ages</td>\n",
       "      <td>0.086958</td>\n",
       "      <td>(8.1–9.3)</td>\n",
       "      <td>NaN</td>\n",
       "      <td>NaN</td>\n",
       "    </tr>\n",
       "    <tr>\n",
       "      <th>1</th>\n",
       "      <td>Alameda</td>\n",
       "      <td>2015–2016</td>\n",
       "      <td>Total population</td>\n",
       "      <td>All ages</td>\n",
       "      <td>0.090542</td>\n",
       "      <td>(5.9–12.2)</td>\n",
       "      <td>NaN</td>\n",
       "      <td>NaN</td>\n",
       "    </tr>\n",
       "    <tr>\n",
       "      <th>2</th>\n",
       "      <td>Alpine</td>\n",
       "      <td>2015–2016</td>\n",
       "      <td>Total population</td>\n",
       "      <td>All ages</td>\n",
       "      <td>0.093000</td>\n",
       "      <td>(4.1–14.6)</td>\n",
       "      <td>Alpine, Amador, Calaveras, Inyo, Mariposa, Mon...</td>\n",
       "      <td>NaN</td>\n",
       "    </tr>\n",
       "    <tr>\n",
       "      <th>3</th>\n",
       "      <td>Amador</td>\n",
       "      <td>2015–2016</td>\n",
       "      <td>Total population</td>\n",
       "      <td>All ages</td>\n",
       "      <td>0.093000</td>\n",
       "      <td>(4.1–14.6)</td>\n",
       "      <td>Alpine, Amador, Calaveras, Inyo, Mariposa, Mon...</td>\n",
       "      <td>NaN</td>\n",
       "    </tr>\n",
       "    <tr>\n",
       "      <th>4</th>\n",
       "      <td>Butte</td>\n",
       "      <td>2015–2016</td>\n",
       "      <td>Total population</td>\n",
       "      <td>All ages</td>\n",
       "      <td>0.094291</td>\n",
       "      <td>(3.8–15.1)</td>\n",
       "      <td>NaN</td>\n",
       "      <td>Estimate is statistically unstable. Caution is...</td>\n",
       "    </tr>\n",
       "    <tr>\n",
       "      <th>...</th>\n",
       "      <td>...</td>\n",
       "      <td>...</td>\n",
       "      <td>...</td>\n",
       "      <td>...</td>\n",
       "      <td>...</td>\n",
       "      <td>...</td>\n",
       "      <td>...</td>\n",
       "      <td>...</td>\n",
       "    </tr>\n",
       "    <tr>\n",
       "      <th>821</th>\n",
       "      <td>Tulare</td>\n",
       "      <td>2017–2018</td>\n",
       "      <td>Age groups</td>\n",
       "      <td>65+ years</td>\n",
       "      <td>NaN</td>\n",
       "      <td>NaN</td>\n",
       "      <td>NaN</td>\n",
       "      <td>Prevalence not available due to unreliable est...</td>\n",
       "    </tr>\n",
       "    <tr>\n",
       "      <th>822</th>\n",
       "      <td>Tuolumne</td>\n",
       "      <td>2017–2018</td>\n",
       "      <td>Age groups</td>\n",
       "      <td>65+ years</td>\n",
       "      <td>0.140353</td>\n",
       "      <td>(5.9–22.2)</td>\n",
       "      <td>Alpine, Amador, Calaveras, Inyo, Mariposa, Mon...</td>\n",
       "      <td>NaN</td>\n",
       "    </tr>\n",
       "    <tr>\n",
       "      <th>823</th>\n",
       "      <td>Ventura</td>\n",
       "      <td>2017–2018</td>\n",
       "      <td>Age groups</td>\n",
       "      <td>65+ years</td>\n",
       "      <td>0.119366</td>\n",
       "      <td>(3.3–20.5)</td>\n",
       "      <td>NaN</td>\n",
       "      <td>Estimate is statistically unstable. Caution is...</td>\n",
       "    </tr>\n",
       "    <tr>\n",
       "      <th>824</th>\n",
       "      <td>Yolo</td>\n",
       "      <td>2017–2018</td>\n",
       "      <td>Age groups</td>\n",
       "      <td>65+ years</td>\n",
       "      <td>NaN</td>\n",
       "      <td>NaN</td>\n",
       "      <td>NaN</td>\n",
       "      <td>Prevalence not available due to unreliable est...</td>\n",
       "    </tr>\n",
       "    <tr>\n",
       "      <th>825</th>\n",
       "      <td>Yuba</td>\n",
       "      <td>2017–2018</td>\n",
       "      <td>Age groups</td>\n",
       "      <td>65+ years</td>\n",
       "      <td>0.143450</td>\n",
       "      <td>(0.2–28.5)</td>\n",
       "      <td>NaN</td>\n",
       "      <td>Estimate is statistically unstable. Caution is...</td>\n",
       "    </tr>\n",
       "  </tbody>\n",
       "</table>\n",
       "<p>826 rows × 8 columns</p>\n",
       "</div>"
      ],
      "text/plain": [
       "         COUNTY      YEARS            STRATA  AGE GROUP  CURRENT PREVALENCE  \\\n",
       "0    California  2015–2016  Total population   All ages            0.086958   \n",
       "1       Alameda  2015–2016  Total population   All ages            0.090542   \n",
       "2        Alpine  2015–2016  Total population   All ages            0.093000   \n",
       "3        Amador  2015–2016  Total population   All ages            0.093000   \n",
       "4         Butte  2015–2016  Total population   All ages            0.094291   \n",
       "..          ...        ...               ...        ...                 ...   \n",
       "821      Tulare  2017–2018        Age groups  65+ years                 NaN   \n",
       "822    Tuolumne  2017–2018        Age groups  65+ years            0.140353   \n",
       "823     Ventura  2017–2018        Age groups  65+ years            0.119366   \n",
       "824        Yolo  2017–2018        Age groups  65+ years                 NaN   \n",
       "825        Yuba  2017–2018        Age groups  65+ years            0.143450   \n",
       "\n",
       "    95% CONFIDENCE INTERVAL  \\\n",
       "0                 (8.1–9.3)   \n",
       "1                (5.9–12.2)   \n",
       "2                (4.1–14.6)   \n",
       "3                (4.1–14.6)   \n",
       "4                (3.8–15.1)   \n",
       "..                      ...   \n",
       "821                     NaN   \n",
       "822              (5.9–22.2)   \n",
       "823              (3.3–20.5)   \n",
       "824                     NaN   \n",
       "825              (0.2–28.5)   \n",
       "\n",
       "                                      COUNTIES GROUPED  \\\n",
       "0                                                  NaN   \n",
       "1                                                  NaN   \n",
       "2    Alpine, Amador, Calaveras, Inyo, Mariposa, Mon...   \n",
       "3    Alpine, Amador, Calaveras, Inyo, Mariposa, Mon...   \n",
       "4                                                  NaN   \n",
       "..                                                 ...   \n",
       "821                                                NaN   \n",
       "822  Alpine, Amador, Calaveras, Inyo, Mariposa, Mon...   \n",
       "823                                                NaN   \n",
       "824                                                NaN   \n",
       "825                                                NaN   \n",
       "\n",
       "                                               COMMENT  \n",
       "0                                                  NaN  \n",
       "1                                                  NaN  \n",
       "2                                                  NaN  \n",
       "3                                                  NaN  \n",
       "4    Estimate is statistically unstable. Caution is...  \n",
       "..                                                 ...  \n",
       "821  Prevalence not available due to unreliable est...  \n",
       "822                                                NaN  \n",
       "823  Estimate is statistically unstable. Caution is...  \n",
       "824  Prevalence not available due to unreliable est...  \n",
       "825  Estimate is statistically unstable. Caution is...  \n",
       "\n",
       "[826 rows x 8 columns]"
      ]
     },
     "execution_count": 4,
     "metadata": {},
     "output_type": "execute_result"
    }
   ],
   "source": [
    "#import the file from github to a dataframe\n",
    "url = 'https://github.com/Bropell/Asthma_Analysis_in_California_Counties/raw/main/Resources/Raw_Data/asthma-prevalence-3.xlsx'\n",
    "asthma_df = pd.read_excel(url)\n",
    "asthma_df"
   ]
  },
  {
   "cell_type": "code",
   "execution_count": 5,
   "id": "2360c35b",
   "metadata": {},
   "outputs": [],
   "source": [
    "#reduce columns to 'COUNTY', 'YEARS', 'STRATA', 'AGE GROUP', 'CURRENT PREVALENCE'\n",
    "asthma_df2 = asthma_df[['COUNTY', 'YEARS', 'STRATA', 'AGE GROUP', 'CURRENT PREVALENCE']]\n",
    "#asthma_df2 = asthma_df2.set_index(\"COUNTY\")"
   ]
  },
  {
   "cell_type": "code",
   "execution_count": 6,
   "id": "48cb0c75",
   "metadata": {},
   "outputs": [],
   "source": [
    "# Remove unneeded values from DF\n",
    "asthma_df3 = asthma_df2.loc[asthma_df2['AGE GROUP'] == 'All ages']\n",
    "asthma_df3 = asthma_df3.loc[asthma_df3['YEARS'] == '2015–2016']\n",
    "asthma_df3 = asthma_df3[['COUNTY','CURRENT PREVALENCE']]\n",
    "asthma_df4 = asthma_df3.loc[asthma_df3['COUNTY'] != 'California']"
   ]
  },
  {
   "cell_type": "code",
   "execution_count": 7,
   "id": "b58dc2a8",
   "metadata": {},
   "outputs": [],
   "source": [
    "# Fill in missing value with corresponding value from 2017-2018\n",
    "asthma_df5 = asthma_df4.fillna(.137846)"
   ]
  },
  {
   "cell_type": "code",
   "execution_count": 8,
   "id": "100525b4",
   "metadata": {},
   "outputs": [
    {
     "data": {
      "text/plain": [
       "COUNTY                 object\n",
       "CURRENT PREVALENCE    float64\n",
       "dtype: object"
      ]
     },
     "execution_count": 8,
     "metadata": {},
     "output_type": "execute_result"
    }
   ],
   "source": [
    "# Check dtypes\n",
    "asthma_df5.dtypes"
   ]
  },
  {
   "cell_type": "code",
   "execution_count": 14,
   "id": "b3b18344",
   "metadata": {},
   "outputs": [
    {
     "data": {
      "text/plain": [
       "<seaborn.axisgrid.FacetGrid at 0x1dd7cc9d208>"
      ]
     },
     "execution_count": 14,
     "metadata": {},
     "output_type": "execute_result"
    },
    {
     "data": {
      "image/png": "[encoded data removed]",
      "text/plain": [
       "<Figure size 360x360 with 1 Axes>"
      ]
     },
     "metadata": {
      "needs_background": "light"
     },
     "output_type": "display_data"
    }
   ],
   "source": [
    "sns.displot(data=asthma_df5, x='CURRENT PREVALENCE').set(title='Current Asthma Rate')"
   ]
  },
  {
   "cell_type": "code",
   "execution_count": 12,
   "id": "33ef4a12",
   "metadata": {},
   "outputs": [
    {
     "data": {
      "text/html": [
       "<div>\n",
       "<style scoped>\n",
       "    .dataframe tbody tr th:only-of-type {\n",
       "        vertical-align: middle;\n",
       "    }\n",
       "\n",
       "    .dataframe tbody tr th {\n",
       "        vertical-align: top;\n",
       "    }\n",
       "\n",
       "    .dataframe thead th {\n",
       "        text-align: right;\n",
       "    }\n",
       "</style>\n",
       "<table border=\"1\" class=\"dataframe\">\n",
       "  <thead>\n",
       "    <tr style=\"text-align: right;\">\n",
       "      <th></th>\n",
       "      <th>COUNTY</th>\n",
       "      <th>CURRENT PREVALENCE</th>\n",
       "    </tr>\n",
       "  </thead>\n",
       "  <tbody>\n",
       "    <tr>\n",
       "      <th>15</th>\n",
       "      <td>Kern</td>\n",
       "      <td>0.166745</td>\n",
       "    </tr>\n",
       "    <tr>\n",
       "      <th>16</th>\n",
       "      <td>Kings</td>\n",
       "      <td>0.157606</td>\n",
       "    </tr>\n",
       "    <tr>\n",
       "      <th>17</th>\n",
       "      <td>Lake</td>\n",
       "      <td>0.173321</td>\n",
       "    </tr>\n",
       "    <tr>\n",
       "      <th>58</th>\n",
       "      <td>Yuba</td>\n",
       "      <td>0.147806</td>\n",
       "    </tr>\n",
       "  </tbody>\n",
       "</table>\n",
       "</div>"
      ],
      "text/plain": [
       "   COUNTY  CURRENT PREVALENCE\n",
       "15   Kern            0.166745\n",
       "16  Kings            0.157606\n",
       "17   Lake            0.173321\n",
       "58   Yuba            0.147806"
      ]
     },
     "execution_count": 12,
     "metadata": {},
     "output_type": "execute_result"
    }
   ],
   "source": [
    "asthma_df5.loc[asthma_df5['CURRENT PREVALENCE'] >= .14]"
   ]
  }
 ],
 "metadata": {
  "kernelspec": {
   "display_name": "PythonData",
   "language": "python",
   "name": "pythondata"
  },
  "language_info": {
   "codemirror_mode": {
    "name": "ipython",
    "version": 3
   },
   "file_extension": ".py",
   "mimetype": "text/x-python",
   "name": "python",
   "nbconvert_exporter": "python",
   "pygments_lexer": "ipython3",
   "version": "3.7.13"
  }
 },
 "nbformat": 4,
 "nbformat_minor": 5
}
