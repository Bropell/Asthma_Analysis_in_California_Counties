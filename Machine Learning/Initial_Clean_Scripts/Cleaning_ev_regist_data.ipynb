{
 "cells": [
  {
   "cell_type": "code",
   "execution_count": 26,
   "id": "e2c1a516",
   "metadata": {},
   "outputs": [],
   "source": [
    "import pandas as pd"
   ]
  },
  {
   "cell_type": "code",
   "execution_count": 27,
   "id": "a0a7fb68",
   "metadata": {},
   "outputs": [
    {
     "name": "stderr",
     "output_type": "stream",
     "text": [
      "C:\\Users\\andrew stein\\.conda\\envs\\pythondata\\lib\\site-packages\\IPython\\core\\interactiveshell.py:3457: DtypeWarning: Columns (1) have mixed types.Specify dtype option on import or set low_memory=False.\n",
      "  exec(code_obj, self.user_global_ns, self.user_ns)\n"
     ]
    }
   ],
   "source": [
    "EV_regist_df = pd.read_csv('../Raw_Data/ca_ev_registrations_public.csv')"
   ]
  },
  {
   "cell_type": "code",
   "execution_count": 28,
   "id": "4ffbbf33",
   "metadata": {
    "scrolled": true
   },
   "outputs": [
    {
     "data": {
      "text/html": [
       "<div>\n",
       "<style scoped>\n",
       "    .dataframe tbody tr th:only-of-type {\n",
       "        vertical-align: middle;\n",
       "    }\n",
       "\n",
       "    .dataframe tbody tr th {\n",
       "        vertical-align: top;\n",
       "    }\n",
       "\n",
       "    .dataframe thead th {\n",
       "        text-align: right;\n",
       "    }\n",
       "</style>\n",
       "<table border=\"1\" class=\"dataframe\">\n",
       "  <thead>\n",
       "    <tr style=\"text-align: right;\">\n",
       "      <th></th>\n",
       "      <th>Vehicle_ID</th>\n",
       "      <th>County_GEOID</th>\n",
       "      <th>Registration_Valid_Date</th>\n",
       "      <th>State</th>\n",
       "      <th>Geography</th>\n",
       "      <th>Vehicle_Name</th>\n",
       "      <th>County</th>\n",
       "    </tr>\n",
       "  </thead>\n",
       "  <tbody>\n",
       "    <tr>\n",
       "      <th>0</th>\n",
       "      <td>CA-011-262244\\r</td>\n",
       "      <td>6059</td>\n",
       "      <td>1/1/2020</td>\n",
       "      <td>CA</td>\n",
       "      <td>County</td>\n",
       "      <td>Chevrolet Bolt EV</td>\n",
       "      <td>Orange County</td>\n",
       "    </tr>\n",
       "    <tr>\n",
       "      <th>1</th>\n",
       "      <td>CA-011-262243\\r</td>\n",
       "      <td>6059</td>\n",
       "      <td>1/1/2020</td>\n",
       "      <td>CA</td>\n",
       "      <td>County</td>\n",
       "      <td>Chevrolet Bolt EV</td>\n",
       "      <td>Orange County</td>\n",
       "    </tr>\n",
       "    <tr>\n",
       "      <th>2</th>\n",
       "      <td>CA-011-262246\\r</td>\n",
       "      <td>6059</td>\n",
       "      <td>1/1/2020</td>\n",
       "      <td>CA</td>\n",
       "      <td>County</td>\n",
       "      <td>Chevrolet Bolt EV</td>\n",
       "      <td>Orange County</td>\n",
       "    </tr>\n",
       "    <tr>\n",
       "      <th>3</th>\n",
       "      <td>CA-011-262245\\r</td>\n",
       "      <td>6059</td>\n",
       "      <td>1/1/2020</td>\n",
       "      <td>CA</td>\n",
       "      <td>County</td>\n",
       "      <td>Chevrolet Bolt EV</td>\n",
       "      <td>Orange County</td>\n",
       "    </tr>\n",
       "    <tr>\n",
       "      <th>4</th>\n",
       "      <td>CA-011-262242\\r</td>\n",
       "      <td>6059</td>\n",
       "      <td>1/1/2020</td>\n",
       "      <td>CA</td>\n",
       "      <td>County</td>\n",
       "      <td>Chevrolet Bolt EV</td>\n",
       "      <td>Orange County</td>\n",
       "    </tr>\n",
       "    <tr>\n",
       "      <th>...</th>\n",
       "      <td>...</td>\n",
       "      <td>...</td>\n",
       "      <td>...</td>\n",
       "      <td>...</td>\n",
       "      <td>...</td>\n",
       "      <td>...</td>\n",
       "      <td>...</td>\n",
       "    </tr>\n",
       "    <tr>\n",
       "      <th>628468</th>\n",
       "      <td>CA-011-55990\\r</td>\n",
       "      <td>6013</td>\n",
       "      <td>1/1/2020</td>\n",
       "      <td>CA</td>\n",
       "      <td>County</td>\n",
       "      <td>Tesla Model 3</td>\n",
       "      <td>Contra Costa County</td>\n",
       "    </tr>\n",
       "    <tr>\n",
       "      <th>628469</th>\n",
       "      <td>CA-011-55987\\r</td>\n",
       "      <td>6013</td>\n",
       "      <td>1/1/2020</td>\n",
       "      <td>CA</td>\n",
       "      <td>County</td>\n",
       "      <td>Tesla Model 3</td>\n",
       "      <td>Contra Costa County</td>\n",
       "    </tr>\n",
       "    <tr>\n",
       "      <th>628470</th>\n",
       "      <td>CA-011-55986\\r</td>\n",
       "      <td>6013</td>\n",
       "      <td>1/1/2020</td>\n",
       "      <td>CA</td>\n",
       "      <td>County</td>\n",
       "      <td>Tesla Model 3</td>\n",
       "      <td>Contra Costa County</td>\n",
       "    </tr>\n",
       "    <tr>\n",
       "      <th>628471</th>\n",
       "      <td>CA-011-55989\\r</td>\n",
       "      <td>6013</td>\n",
       "      <td>1/1/2020</td>\n",
       "      <td>CA</td>\n",
       "      <td>County</td>\n",
       "      <td>Tesla Model 3</td>\n",
       "      <td>Contra Costa County</td>\n",
       "    </tr>\n",
       "    <tr>\n",
       "      <th>628472</th>\n",
       "      <td>CA-011-55988\\r</td>\n",
       "      <td>6013</td>\n",
       "      <td>1/1/2020</td>\n",
       "      <td>CA</td>\n",
       "      <td>County</td>\n",
       "      <td>Tesla Model 3</td>\n",
       "      <td>Contra Costa County</td>\n",
       "    </tr>\n",
       "  </tbody>\n",
       "</table>\n",
       "<p>628473 rows × 7 columns</p>\n",
       "</div>"
      ],
      "text/plain": [
       "             Vehicle_ID County_GEOID Registration_Valid_Date State Geography  \\\n",
       "0       CA-011-262244\\r         6059                1/1/2020    CA    County   \n",
       "1       CA-011-262243\\r         6059                1/1/2020    CA    County   \n",
       "2       CA-011-262246\\r         6059                1/1/2020    CA    County   \n",
       "3       CA-011-262245\\r         6059                1/1/2020    CA    County   \n",
       "4       CA-011-262242\\r         6059                1/1/2020    CA    County   \n",
       "...                 ...          ...                     ...   ...       ...   \n",
       "628468   CA-011-55990\\r         6013                1/1/2020    CA    County   \n",
       "628469   CA-011-55987\\r         6013                1/1/2020    CA    County   \n",
       "628470   CA-011-55986\\r         6013                1/1/2020    CA    County   \n",
       "628471   CA-011-55989\\r         6013                1/1/2020    CA    County   \n",
       "628472   CA-011-55988\\r         6013                1/1/2020    CA    County   \n",
       "\n",
       "             Vehicle_Name               County  \n",
       "0       Chevrolet Bolt EV        Orange County  \n",
       "1       Chevrolet Bolt EV        Orange County  \n",
       "2       Chevrolet Bolt EV        Orange County  \n",
       "3       Chevrolet Bolt EV        Orange County  \n",
       "4       Chevrolet Bolt EV        Orange County  \n",
       "...                   ...                  ...  \n",
       "628468      Tesla Model 3  Contra Costa County  \n",
       "628469      Tesla Model 3  Contra Costa County  \n",
       "628470      Tesla Model 3  Contra Costa County  \n",
       "628471      Tesla Model 3  Contra Costa County  \n",
       "628472      Tesla Model 3  Contra Costa County  \n",
       "\n",
       "[628473 rows x 7 columns]"
      ]
     },
     "execution_count": 28,
     "metadata": {},
     "output_type": "execute_result"
    }
   ],
   "source": [
    "EV_regist_df"
   ]
  },
  {
   "cell_type": "code",
   "execution_count": 29,
   "id": "6b16a208",
   "metadata": {},
   "outputs": [
    {
     "data": {
      "text/plain": [
       "Los Angeles County        154234\n",
       "Orange County              76706\n",
       "Santa Clara County         73092\n",
       "San Diego County           51616\n",
       "Alameda County             45785\n",
       "Contra Costa County        25938\n",
       "San Mateo County           24890\n",
       "Riverside County           22953\n",
       "San Bernardino County      17279\n",
       "San Francisco County       16134\n",
       "Sacramento County          15855\n",
       "Ventura County             13080\n",
       "Sonoma County               9868\n",
       "Marin County                9657\n",
       "Placer County               6339\n",
       "San Joaquin County          5918\n",
       "Fresno County               5481\n",
       "Santa Cruz County           5420\n",
       "Solano County               5139\n",
       "Santa Barbara County        5088\n",
       "Unknown                     4554\n",
       "San Luis Obispo County      3964\n",
       "Monterey County             3429\n",
       "Kern County                 3222\n",
       "Yolo County                 2948\n",
       "El Dorado County            2795\n",
       "Stanislaus County           2606\n",
       "Napa County                 2365\n",
       "Humboldt County             1475\n",
       "Tulare County               1391\n",
       "Nevada County               1113\n",
       "Butte County                 982\n",
       "Merced County                968\n",
       "Mendocino County             924\n",
       "Shasta County                734\n",
       "San Benito County            718\n",
       "Madera County                574\n",
       "Kings County                 379\n",
       "Lake County                  376\n",
       "Sutter County                364\n",
       "Yuba County                  289\n",
       "Imperial County              288\n",
       "Calaveras County             276\n",
       "Tuolumne County              240\n",
       "Amador County                226\n",
       "Tehama County                143\n",
       "Siskiyou County               98\n",
       "Del Norte County              92\n",
       "Mariposa County               81\n",
       "Inyo County                   78\n",
       "Mono County                   67\n",
       "Glenn County                  65\n",
       "Plumas County                 52\n",
       "Trinity County                47\n",
       "Colusa County                 45\n",
       "Lassen County                 14\n",
       "Alpine County                 11\n",
       "Sierra County                  7\n",
       "Modoc County                   1\n",
       "Name: County, dtype: int64"
      ]
     },
     "execution_count": 29,
     "metadata": {},
     "output_type": "execute_result"
    }
   ],
   "source": [
    "EVs_per_county = EV_regist_df.County.value_counts()\n",
    "EVs_per_county"
   ]
  },
  {
   "cell_type": "code",
   "execution_count": 32,
   "id": "c428e1ef",
   "metadata": {},
   "outputs": [
    {
     "data": {
      "text/plain": [
       "dtype('int64')"
      ]
     },
     "execution_count": 32,
     "metadata": {},
     "output_type": "execute_result"
    }
   ],
   "source": [
    "EVs_per_county.dtypes"
   ]
  },
  {
   "cell_type": "code",
   "execution_count": 31,
   "id": "e6515336",
   "metadata": {},
   "outputs": [],
   "source": [
    "EVs_per_county.to_csv('../Clean_Data/CLEAN_EVs_per_county.csv')"
   ]
  },
  {
   "cell_type": "code",
   "execution_count": null,
   "id": "3a5e6d84",
   "metadata": {},
   "outputs": [],
   "source": []
  }
 ],
 "metadata": {
  "kernelspec": {
   "display_name": "pythondata",
   "language": "python",
   "name": "pythondata"
  },
  "language_info": {
   "codemirror_mode": {
    "name": "ipython",
    "version": 3
   },
   "file_extension": ".py",
   "mimetype": "text/x-python",
   "name": "python",
   "nbconvert_exporter": "python",
   "pygments_lexer": "ipython3",
   "version": "3.7.13"
  }
 },
 "nbformat": 4,
 "nbformat_minor": 5
}
