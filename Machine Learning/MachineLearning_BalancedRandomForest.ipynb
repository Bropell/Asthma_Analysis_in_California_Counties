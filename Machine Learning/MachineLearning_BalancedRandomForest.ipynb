{
 "cells": [
  {
   "cell_type": "code",
   "execution_count": 1,
   "id": "fb1ae345",
   "metadata": {},
   "outputs": [],
   "source": [
    "#import dependencies\n",
    "import pandas as pd\n",
    "import numpy as np\n",
    "from pathlib import Path\n",
    "from collections import Counter\n",
    "from sklearn.metrics import balanced_accuracy_score\n",
    "from sklearn.metrics import confusion_matrix\n",
    "from imblearn.metrics import classification_report_imbalanced\n",
    "from sklearn.model_selection import train_test_split\n",
    "from imblearn.ensemble import BalancedRandomForestClassifier\n",
    "#import the file from github to a dataframe\n",
    "url = \"https://raw.githubusercontent.com/Bropell/Asthma_Analysis_in_California_Counties/main/Databases/Merged_Datasets.csv\"\n",
    "ap_df = pd.read_csv(url)\n",
    "\n",
    "ap_df = ap_df.set_index(\"County\")"
   ]
  },
  {
   "cell_type": "code",
   "execution_count": 2,
   "id": "202b3dba",
   "metadata": {},
   "outputs": [
    {
     "data": {
      "text/plain": [
       "Index(['Pollutant: 1,3-butadiene', 'Pollutant: Acetaldehyde',\n",
       "       'Pollutant: Benzene', 'Pollutant: Carbon tetrachloride',\n",
       "       'Pollutant: Formaldehyde', 'Target', 'TotalPop', 'Men', 'Women',\n",
       "       'Hispanic', 'White', 'Black', 'Native', 'Asian', 'Pacific', 'Income',\n",
       "       'IncomePerCap', 'Poverty', 'ChildPoverty', 'Professional', 'Service',\n",
       "       'Office', 'Construction', 'Production', 'Drive', 'Carpool', 'Transit',\n",
       "       'Walk', 'OtherTransp', 'WorkAtHome', 'MeanCommute', 'Employed',\n",
       "       'PrivateWork', 'PublicWork', 'SelfEmployed', 'FamilyWork',\n",
       "       'Unemployment', 'Max_Voltage', 'Total EV Chargers',\n",
       "       'Private EV Chargers', 'Public EV Chargers', 'AcresBurned',\n",
       "       'Registered EV Count'],\n",
       "      dtype='object')"
      ]
     },
     "execution_count": 2,
     "metadata": {},
     "output_type": "execute_result"
    }
   ],
   "source": [
    "#column names\n",
    "ap_df.columns"
   ]
  },
  {
   "cell_type": "code",
   "execution_count": 3,
   "id": "3b221693",
   "metadata": {},
   "outputs": [],
   "source": [
    "# Create our features\n",
    "X = pd.get_dummies(ap_df)\n",
    "X = X.drop(columns=[\"Target_t\",\"Target_f\"])\n",
    "\n",
    "# Create our target\n",
    "y = pd.get_dummies(ap_df)\n",
    "y = y[\"Target_t\"]\n"
   ]
  },
  {
   "cell_type": "code",
   "execution_count": 4,
   "id": "a5224b28",
   "metadata": {},
   "outputs": [],
   "source": [
    "#train the model\n",
    "X_train, X_test, y_train, y_test = train_test_split(X, y, random_state=1)"
   ]
  },
  {
   "cell_type": "code",
   "execution_count": 5,
   "id": "d71e79f1",
   "metadata": {},
   "outputs": [
    {
     "data": {
      "text/plain": [
       "array([1, 1, 1, 0, 0, 1, 0, 0, 0, 1, 0, 0, 1, 0, 1], dtype=uint8)"
      ]
     },
     "execution_count": 5,
     "metadata": {},
     "output_type": "execute_result"
    }
   ],
   "source": [
    "# fit the model and create prediction array\n",
    "from imblearn.ensemble import BalancedRandomForestClassifier\n",
    "brfc = BalancedRandomForestClassifier(random_state=1)\n",
    "brfc = brfc.fit(X_train,y_train)\n",
    "predictions = brfc.predict(X_test)\n",
    "predictions"
   ]
  },
  {
   "cell_type": "code",
   "execution_count": 6,
   "id": "89aebb00",
   "metadata": {},
   "outputs": [
    {
     "name": "stdout",
     "output_type": "stream",
     "text": [
      "Balanced Accuracy Score\n"
     ]
    },
    {
     "data": {
      "text/plain": [
       "0.5982142857142857"
      ]
     },
     "execution_count": 6,
     "metadata": {},
     "output_type": "execute_result"
    }
   ],
   "source": [
    "# Balanced Accuracy Score \n",
    "y_pred = predictions\n",
    "print(\"Balanced Accuracy Score\")\n",
    "balanced_accuracy_score(y_test, y_pred)"
   ]
  },
  {
   "cell_type": "code",
   "execution_count": 7,
   "id": "1c7d3856",
   "metadata": {},
   "outputs": [
    {
     "name": "stdout",
     "output_type": "stream",
     "text": [
      "Confusion Matrix\n"
     ]
    },
    {
     "data": {
      "text/plain": [
       "array([[5, 3],\n",
       "       [3, 4]], dtype=int64)"
      ]
     },
     "execution_count": 7,
     "metadata": {},
     "output_type": "execute_result"
    }
   ],
   "source": [
    "# Confusion Matrix\n",
    "print(\"Confusion Matrix\")\n",
    "confusion_matrix(y_test, y_pred)"
   ]
  },
  {
   "cell_type": "code",
   "execution_count": 8,
   "id": "9affd59e",
   "metadata": {},
   "outputs": [
    {
     "name": "stdout",
     "output_type": "stream",
     "text": [
      "Classification Report\n",
      "                   pre       rec       spe        f1       geo       iba       sup\n",
      "\n",
      "          0       0.62      0.62      0.57      0.62      0.60      0.36         8\n",
      "          1       0.57      0.57      0.62      0.57      0.60      0.36         7\n",
      "\n",
      "avg / total       0.60      0.60      0.60      0.60      0.60      0.36        15\n",
      "\n"
     ]
    }
   ],
   "source": [
    "# Print the imbalanced classification report\n",
    "print(\"Classification Report\")\n",
    "print(classification_report_imbalanced(y_test, y_pred))"
   ]
  },
  {
   "cell_type": "code",
   "execution_count": 9,
   "id": "a9e37af3",
   "metadata": {},
   "outputs": [
    {
     "data": {
      "text/plain": [
       "array([0.01541088, 0.02645088, 0.02491339, 0.        , 0.03060752,\n",
       "       0.02415284, 0.02314055, 0.01564594, 0.01669123, 0.02441451,\n",
       "       0.03769759, 0.0182453 , 0.02184982, 0.02220931, 0.01752965,\n",
       "       0.01677897, 0.01393664, 0.01892557, 0.02105858, 0.01251622,\n",
       "       0.01590761, 0.01988534, 0.01418836, 0.01535563, 0.01252431,\n",
       "       0.03172497, 0.03308336, 0.0299724 , 0.02337432, 0.03049675,\n",
       "       0.01866467, 0.01138172, 0.01314275, 0.02236577, 0.04040524,\n",
       "       0.01856003, 0.05162988, 0.04418512, 0.02306118, 0.04799692,\n",
       "       0.0331096 , 0.0468087 ])"
      ]
     },
     "execution_count": 9,
     "metadata": {},
     "output_type": "execute_result"
    }
   ],
   "source": [
    "# Calculate the feature importance\n",
    "importances = brfc.feature_importances_\n",
    "importances"
   ]
  },
  {
   "cell_type": "code",
   "execution_count": 10,
   "id": "d7724690",
   "metadata": {},
   "outputs": [
    {
     "data": {
      "text/plain": [
       "[(0.05162987579284694, 'Max_Voltage'),\n",
       " (0.0479969177039576, 'Public EV Chargers'),\n",
       " (0.046808700686528724, 'Registered EV Count'),\n",
       " (0.04418512226807164, 'Total EV Chargers'),\n",
       " (0.04040523628715015, 'FamilyWork'),\n",
       " (0.03769758958255173, 'Black'),\n",
       " (0.03310959517994914, 'AcresBurned'),\n",
       " (0.033083357690871645, 'Walk'),\n",
       " (0.031724968462319, 'Transit'),\n",
       " (0.030607520299150415, 'Pollutant: Formaldehyde'),\n",
       " (0.03049674658116731, 'MeanCommute'),\n",
       " (0.029972398774072748, 'OtherTransp'),\n",
       " (0.026450879537164816, 'Pollutant: Acetaldehyde'),\n",
       " (0.024913390618801476, 'Pollutant: Benzene'),\n",
       " (0.024414505305158013, 'White'),\n",
       " (0.024152842142497244, 'TotalPop'),\n",
       " (0.02337432450737943, 'WorkAtHome'),\n",
       " (0.023140549828000286, 'Men'),\n",
       " (0.023061182196831967, 'Private EV Chargers'),\n",
       " (0.022365767089229518, 'SelfEmployed'),\n",
       " (0.02220930608151818, 'Pacific'),\n",
       " (0.02184982053641406, 'Asian'),\n",
       " (0.02105858145631949, 'Professional'),\n",
       " (0.019885340413945015, 'Construction'),\n",
       " (0.01892557103807449, 'ChildPoverty'),\n",
       " (0.018664668834476702, 'Employed'),\n",
       " (0.018560031312393387, 'Unemployment'),\n",
       " (0.018245295629297466, 'Native'),\n",
       " (0.017529654956006488, 'Income'),\n",
       " (0.016778972453776495, 'IncomePerCap'),\n",
       " (0.016691225300849453, 'Hispanic'),\n",
       " (0.015907612005703186, 'Office'),\n",
       " (0.015645939480890703, 'Women'),\n",
       " (0.015410878807843267, 'Pollutant: 1,3-butadiene'),\n",
       " (0.015355627771158982, 'Drive'),\n",
       " (0.014188359897896153, 'Production'),\n",
       " (0.013936641937316658, 'Poverty'),\n",
       " (0.01314274810980446, 'PublicWork'),\n",
       " (0.01252431319111775, 'Carpool'),\n",
       " (0.012516221500656444, 'Service'),\n",
       " (0.01138171875084142, 'PrivateWork'),\n",
       " (0.0, 'Pollutant: Carbon tetrachloride')]"
      ]
     },
     "execution_count": 10,
     "metadata": {},
     "output_type": "execute_result"
    }
   ],
   "source": [
    "# Sort features by their importance\n",
    "sorted(zip(brfc.feature_importances_, X.columns), reverse=True)"
   ]
  }
 ],
 "metadata": {
  "kernelspec": {
   "display_name": "mlenv",
   "language": "python",
   "name": "mlenv"
  },
  "language_info": {
   "codemirror_mode": {
    "name": "ipython",
    "version": 3
   },
   "file_extension": ".py",
   "mimetype": "text/x-python",
   "name": "python",
   "nbconvert_exporter": "python",
   "pygments_lexer": "ipython3",
   "version": "3.7.13"
  }
 },
 "nbformat": 4,
 "nbformat_minor": 5
}
