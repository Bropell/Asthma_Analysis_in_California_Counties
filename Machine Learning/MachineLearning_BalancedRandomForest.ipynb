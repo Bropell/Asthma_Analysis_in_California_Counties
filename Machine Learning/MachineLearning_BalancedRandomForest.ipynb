{
 "cells": [
  {
   "cell_type": "code",
   "execution_count": 1,
   "id": "fb1ae345",
   "metadata": {},
   "outputs": [],
   "source": [
    "#import dependencies\n",
    "import pandas as pd\n",
    "import numpy as np\n",
    "from pathlib import Path\n",
    "from collections import Counter\n",
    "from sklearn.metrics import balanced_accuracy_score\n",
    "from sklearn.metrics import confusion_matrix\n",
    "from imblearn.metrics import classification_report_imbalanced\n",
    "from sklearn.model_selection import train_test_split\n",
    "from imblearn.ensemble import BalancedRandomForestClassifier\n",
    "import seaborn as sns\n",
    "#import the file from github to a dataframe\n",
    "url = \"https://raw.githubusercontent.com/Bropell/Asthma_Analysis_in_California_Counties/main/Databases/Merged_Datasets.csv\"\n",
    "ap_df = pd.read_csv(url)\n",
    "\n",
    "ap_df = ap_df.set_index(\"County\")"
   ]
  },
  {
   "cell_type": "code",
   "execution_count": 2,
   "id": "202b3dba",
   "metadata": {},
   "outputs": [
    {
     "data": {
      "text/plain": [
       "Index(['Pollutant: 1,3-butadiene', 'Pollutant: Acetaldehyde',\n",
       "       'Pollutant: Benzene', 'Pollutant: Carbon tetrachloride',\n",
       "       'Pollutant: Formaldehyde', 'Target', 'TotalPop', 'Income',\n",
       "       'IncomePerCap', 'Poverty', 'ChildPoverty', 'Professional', 'Service',\n",
       "       'Office', 'Construction', 'Production', 'Drive', 'Carpool', 'Transit',\n",
       "       'Walk', 'OtherTransp', 'WorkAtHome', 'MeanCommute', 'Employed',\n",
       "       'PrivateWork', 'PublicWork', 'SelfEmployed', 'FamilyWork',\n",
       "       'Unemployment', 'Hispanic (%)', 'White (%)', 'Black (%)', 'Native (%)',\n",
       "       'Asian (%)', 'Pacific (%)', 'Max_Voltage', 'Total EV Chargers',\n",
       "       'Private EV Chargers', 'Public EV Chargers', 'AcresBurned',\n",
       "       'Registered EV Count'],\n",
       "      dtype='object')"
      ]
     },
     "execution_count": 2,
     "metadata": {},
     "output_type": "execute_result"
    }
   ],
   "source": [
    "#column names\n",
    "ap_df.columns"
   ]
  },
  {
   "cell_type": "code",
   "execution_count": 3,
   "id": "5d338769",
   "metadata": {},
   "outputs": [],
   "source": [
    "ap_df['Target'].replace({0: \"t\", 1: \"f\"}, inplace=True)"
   ]
  },
  {
   "cell_type": "code",
   "execution_count": 4,
   "id": "3b221693",
   "metadata": {},
   "outputs": [],
   "source": [
    "# Create our features\n",
    "X = pd.get_dummies(ap_df)\n",
    "X = X.drop(columns=[\"Target_t\",\"Target_f\"])\n",
    "\n",
    "# Create our target\n",
    "y = pd.get_dummies(ap_df)\n",
    "y = y[\"Target_t\"]\n"
   ]
  },
  {
   "cell_type": "code",
   "execution_count": 5,
   "id": "a5224b28",
   "metadata": {},
   "outputs": [],
   "source": [
    "#train the model\n",
    "X_train, X_test, y_train, y_test = train_test_split(X, y, random_state=1)"
   ]
  },
  {
   "cell_type": "code",
   "execution_count": 6,
   "id": "d71e79f1",
   "metadata": {},
   "outputs": [
    {
     "data": {
      "text/plain": [
       "array([1, 1, 0, 0, 0, 1, 0, 0, 1, 1, 0, 0, 1, 1, 1], dtype=uint8)"
      ]
     },
     "execution_count": 6,
     "metadata": {},
     "output_type": "execute_result"
    }
   ],
   "source": [
    "# fit the model and create prediction array\n",
    "from imblearn.ensemble import BalancedRandomForestClassifier\n",
    "brfc = BalancedRandomForestClassifier(random_state=1)\n",
    "brfc = brfc.fit(X_train,y_train)\n",
    "predictions = brfc.predict(X_test)\n",
    "predictions"
   ]
  },
  {
   "cell_type": "code",
   "execution_count": 7,
   "id": "89aebb00",
   "metadata": {},
   "outputs": [
    {
     "name": "stdout",
     "output_type": "stream",
     "text": [
      "Balanced Accuracy Score\n"
     ]
    },
    {
     "data": {
      "text/plain": [
       "0.5277777777777778"
      ]
     },
     "execution_count": 7,
     "metadata": {},
     "output_type": "execute_result"
    }
   ],
   "source": [
    "# Balanced Accuracy Score \n",
    "y_pred = predictions\n",
    "print(\"Balanced Accuracy Score\")\n",
    "balanced_accuracy_score(y_test, y_pred)"
   ]
  },
  {
   "cell_type": "code",
   "execution_count": 8,
   "id": "1c7d3856",
   "metadata": {},
   "outputs": [
    {
     "name": "stdout",
     "output_type": "stream",
     "text": [
      "Confusion Matrix\n"
     ]
    },
    {
     "data": {
      "text/plain": [
       "array([[3, 3],\n",
       "       [4, 5]])"
      ]
     },
     "execution_count": 8,
     "metadata": {},
     "output_type": "execute_result"
    }
   ],
   "source": [
    "# Confusion Matrix\n",
    "print(\"Confusion Matrix\")\n",
    "confusion_matrix(y_test, y_pred)"
   ]
  },
  {
   "cell_type": "code",
   "execution_count": 9,
   "id": "9affd59e",
   "metadata": {},
   "outputs": [
    {
     "name": "stdout",
     "output_type": "stream",
     "text": [
      "Classification Report\n",
      "                   pre       rec       spe        f1       geo       iba       sup\n",
      "\n",
      "          0       0.43      0.50      0.56      0.46      0.53      0.28         6\n",
      "          1       0.62      0.56      0.50      0.59      0.53      0.28         9\n",
      "\n",
      "avg / total       0.55      0.53      0.52      0.54      0.53      0.28        15\n",
      "\n"
     ]
    }
   ],
   "source": [
    "# Print the imbalanced classification report\n",
    "print(\"Classification Report\")\n",
    "print(classification_report_imbalanced(y_test, y_pred))"
   ]
  },
  {
   "cell_type": "code",
   "execution_count": 10,
   "id": "a9e37af3",
   "metadata": {},
   "outputs": [
    {
     "data": {
      "text/plain": [
       "array([0.02220946, 0.04471767, 0.03605952, 0.        , 0.02064052,\n",
       "       0.01639161, 0.01531993, 0.02095324, 0.01537983, 0.0202457 ,\n",
       "       0.02148438, 0.01277398, 0.013111  , 0.02515432, 0.01523546,\n",
       "       0.00612999, 0.01114506, 0.08123841, 0.02071418, 0.03079705,\n",
       "       0.03056157, 0.00804206, 0.01609592, 0.01565623, 0.02059447,\n",
       "       0.01940978, 0.01830685, 0.01518247, 0.04189657, 0.02698042,\n",
       "       0.07367619, 0.0346291 , 0.01772029, 0.04273447, 0.04065113,\n",
       "       0.03647358, 0.01453115, 0.01992483, 0.03613912, 0.02109248])"
      ]
     },
     "execution_count": 10,
     "metadata": {},
     "output_type": "execute_result"
    }
   ],
   "source": [
    "# Calculate the feature importance\n",
    "importances = brfc.feature_importances_\n",
    "importances"
   ]
  },
  {
   "cell_type": "code",
   "execution_count": 13,
   "id": "d7724690",
   "metadata": {},
   "outputs": [],
   "source": [
    "# Sort features by their importance\n",
    "features_rank = sorted(zip(brfc.feature_importances_, X.columns), reverse=True)"
   ]
  },
  {
   "cell_type": "code",
   "execution_count": 14,
   "id": "833bbc49",
   "metadata": {},
   "outputs": [
    {
     "data": {
      "text/html": [
       "<div>\n",
       "<style scoped>\n",
       "    .dataframe tbody tr th:only-of-type {\n",
       "        vertical-align: middle;\n",
       "    }\n",
       "\n",
       "    .dataframe tbody tr th {\n",
       "        vertical-align: top;\n",
       "    }\n",
       "\n",
       "    .dataframe thead th {\n",
       "        text-align: right;\n",
       "    }\n",
       "</style>\n",
       "<table border=\"1\" class=\"dataframe\">\n",
       "  <thead>\n",
       "    <tr style=\"text-align: right;\">\n",
       "      <th></th>\n",
       "      <th>Importance</th>\n",
       "      <th>Feature</th>\n",
       "    </tr>\n",
       "  </thead>\n",
       "  <tbody>\n",
       "    <tr>\n",
       "      <th>0</th>\n",
       "      <td>0.081238</td>\n",
       "      <td>Transit</td>\n",
       "    </tr>\n",
       "    <tr>\n",
       "      <th>1</th>\n",
       "      <td>0.073676</td>\n",
       "      <td>Black (%)</td>\n",
       "    </tr>\n",
       "    <tr>\n",
       "      <th>2</th>\n",
       "      <td>0.044718</td>\n",
       "      <td>Pollutant: Acetaldehyde</td>\n",
       "    </tr>\n",
       "    <tr>\n",
       "      <th>3</th>\n",
       "      <td>0.042734</td>\n",
       "      <td>Pacific (%)</td>\n",
       "    </tr>\n",
       "    <tr>\n",
       "      <th>4</th>\n",
       "      <td>0.041897</td>\n",
       "      <td>Hispanic (%)</td>\n",
       "    </tr>\n",
       "    <tr>\n",
       "      <th>5</th>\n",
       "      <td>0.040651</td>\n",
       "      <td>Max_Voltage</td>\n",
       "    </tr>\n",
       "    <tr>\n",
       "      <th>6</th>\n",
       "      <td>0.036474</td>\n",
       "      <td>Total EV Chargers</td>\n",
       "    </tr>\n",
       "    <tr>\n",
       "      <th>7</th>\n",
       "      <td>0.036139</td>\n",
       "      <td>AcresBurned</td>\n",
       "    </tr>\n",
       "    <tr>\n",
       "      <th>8</th>\n",
       "      <td>0.036060</td>\n",
       "      <td>Pollutant: Benzene</td>\n",
       "    </tr>\n",
       "    <tr>\n",
       "      <th>9</th>\n",
       "      <td>0.034629</td>\n",
       "      <td>Native (%)</td>\n",
       "    </tr>\n",
       "    <tr>\n",
       "      <th>10</th>\n",
       "      <td>0.030797</td>\n",
       "      <td>OtherTransp</td>\n",
       "    </tr>\n",
       "    <tr>\n",
       "      <th>11</th>\n",
       "      <td>0.030562</td>\n",
       "      <td>WorkAtHome</td>\n",
       "    </tr>\n",
       "    <tr>\n",
       "      <th>12</th>\n",
       "      <td>0.026980</td>\n",
       "      <td>White (%)</td>\n",
       "    </tr>\n",
       "    <tr>\n",
       "      <th>13</th>\n",
       "      <td>0.025154</td>\n",
       "      <td>Construction</td>\n",
       "    </tr>\n",
       "    <tr>\n",
       "      <th>14</th>\n",
       "      <td>0.022209</td>\n",
       "      <td>Pollutant: 1,3-butadiene</td>\n",
       "    </tr>\n",
       "    <tr>\n",
       "      <th>15</th>\n",
       "      <td>0.021484</td>\n",
       "      <td>Professional</td>\n",
       "    </tr>\n",
       "    <tr>\n",
       "      <th>16</th>\n",
       "      <td>0.021092</td>\n",
       "      <td>Registered EV Count</td>\n",
       "    </tr>\n",
       "    <tr>\n",
       "      <th>17</th>\n",
       "      <td>0.020953</td>\n",
       "      <td>IncomePerCap</td>\n",
       "    </tr>\n",
       "    <tr>\n",
       "      <th>18</th>\n",
       "      <td>0.020714</td>\n",
       "      <td>Walk</td>\n",
       "    </tr>\n",
       "    <tr>\n",
       "      <th>19</th>\n",
       "      <td>0.020641</td>\n",
       "      <td>Pollutant: Formaldehyde</td>\n",
       "    </tr>\n",
       "    <tr>\n",
       "      <th>20</th>\n",
       "      <td>0.020594</td>\n",
       "      <td>PublicWork</td>\n",
       "    </tr>\n",
       "    <tr>\n",
       "      <th>21</th>\n",
       "      <td>0.020246</td>\n",
       "      <td>ChildPoverty</td>\n",
       "    </tr>\n",
       "    <tr>\n",
       "      <th>22</th>\n",
       "      <td>0.019925</td>\n",
       "      <td>Public EV Chargers</td>\n",
       "    </tr>\n",
       "    <tr>\n",
       "      <th>23</th>\n",
       "      <td>0.019410</td>\n",
       "      <td>SelfEmployed</td>\n",
       "    </tr>\n",
       "    <tr>\n",
       "      <th>24</th>\n",
       "      <td>0.018307</td>\n",
       "      <td>FamilyWork</td>\n",
       "    </tr>\n",
       "    <tr>\n",
       "      <th>25</th>\n",
       "      <td>0.017720</td>\n",
       "      <td>Asian (%)</td>\n",
       "    </tr>\n",
       "    <tr>\n",
       "      <th>26</th>\n",
       "      <td>0.016392</td>\n",
       "      <td>TotalPop</td>\n",
       "    </tr>\n",
       "    <tr>\n",
       "      <th>27</th>\n",
       "      <td>0.016096</td>\n",
       "      <td>Employed</td>\n",
       "    </tr>\n",
       "    <tr>\n",
       "      <th>28</th>\n",
       "      <td>0.015656</td>\n",
       "      <td>PrivateWork</td>\n",
       "    </tr>\n",
       "    <tr>\n",
       "      <th>29</th>\n",
       "      <td>0.015380</td>\n",
       "      <td>Poverty</td>\n",
       "    </tr>\n",
       "    <tr>\n",
       "      <th>30</th>\n",
       "      <td>0.015320</td>\n",
       "      <td>Income</td>\n",
       "    </tr>\n",
       "    <tr>\n",
       "      <th>31</th>\n",
       "      <td>0.015235</td>\n",
       "      <td>Production</td>\n",
       "    </tr>\n",
       "    <tr>\n",
       "      <th>32</th>\n",
       "      <td>0.015182</td>\n",
       "      <td>Unemployment</td>\n",
       "    </tr>\n",
       "    <tr>\n",
       "      <th>33</th>\n",
       "      <td>0.014531</td>\n",
       "      <td>Private EV Chargers</td>\n",
       "    </tr>\n",
       "    <tr>\n",
       "      <th>34</th>\n",
       "      <td>0.013111</td>\n",
       "      <td>Office</td>\n",
       "    </tr>\n",
       "    <tr>\n",
       "      <th>35</th>\n",
       "      <td>0.012774</td>\n",
       "      <td>Service</td>\n",
       "    </tr>\n",
       "    <tr>\n",
       "      <th>36</th>\n",
       "      <td>0.011145</td>\n",
       "      <td>Carpool</td>\n",
       "    </tr>\n",
       "    <tr>\n",
       "      <th>37</th>\n",
       "      <td>0.008042</td>\n",
       "      <td>MeanCommute</td>\n",
       "    </tr>\n",
       "    <tr>\n",
       "      <th>38</th>\n",
       "      <td>0.006130</td>\n",
       "      <td>Drive</td>\n",
       "    </tr>\n",
       "    <tr>\n",
       "      <th>39</th>\n",
       "      <td>0.000000</td>\n",
       "      <td>Pollutant: Carbon tetrachloride</td>\n",
       "    </tr>\n",
       "  </tbody>\n",
       "</table>\n",
       "</div>"
      ],
      "text/plain": [
       "    Importance                          Feature\n",
       "0     0.081238                          Transit\n",
       "1     0.073676                        Black (%)\n",
       "2     0.044718          Pollutant: Acetaldehyde\n",
       "3     0.042734                      Pacific (%)\n",
       "4     0.041897                     Hispanic (%)\n",
       "5     0.040651                      Max_Voltage\n",
       "6     0.036474                Total EV Chargers\n",
       "7     0.036139                      AcresBurned\n",
       "8     0.036060               Pollutant: Benzene\n",
       "9     0.034629                       Native (%)\n",
       "10    0.030797                      OtherTransp\n",
       "11    0.030562                       WorkAtHome\n",
       "12    0.026980                        White (%)\n",
       "13    0.025154                     Construction\n",
       "14    0.022209         Pollutant: 1,3-butadiene\n",
       "15    0.021484                     Professional\n",
       "16    0.021092              Registered EV Count\n",
       "17    0.020953                     IncomePerCap\n",
       "18    0.020714                             Walk\n",
       "19    0.020641          Pollutant: Formaldehyde\n",
       "20    0.020594                       PublicWork\n",
       "21    0.020246                     ChildPoverty\n",
       "22    0.019925               Public EV Chargers\n",
       "23    0.019410                     SelfEmployed\n",
       "24    0.018307                       FamilyWork\n",
       "25    0.017720                        Asian (%)\n",
       "26    0.016392                         TotalPop\n",
       "27    0.016096                         Employed\n",
       "28    0.015656                      PrivateWork\n",
       "29    0.015380                          Poverty\n",
       "30    0.015320                           Income\n",
       "31    0.015235                       Production\n",
       "32    0.015182                     Unemployment\n",
       "33    0.014531              Private EV Chargers\n",
       "34    0.013111                           Office\n",
       "35    0.012774                          Service\n",
       "36    0.011145                          Carpool\n",
       "37    0.008042                      MeanCommute\n",
       "38    0.006130                            Drive\n",
       "39    0.000000  Pollutant: Carbon tetrachloride"
      ]
     },
     "execution_count": 14,
     "metadata": {},
     "output_type": "execute_result"
    }
   ],
   "source": [
    "# Turn importance of features into a dataframe\n",
    "features_df = pd.DataFrame(features_rank)\n",
    "cols = ['Importance', 'Feature']\n",
    "features_df.columns = cols\n",
    "features_df"
   ]
  },
  {
   "cell_type": "code",
   "execution_count": 20,
   "id": "374c06b3",
   "metadata": {},
   "outputs": [
    {
     "data": {
      "image/png": "[encoded data removed]",
      "text/plain": [
       "<Figure size 1296x864 with 1 Axes>"
      ]
     },
     "metadata": {},
     "output_type": "display_data"
    }
   ],
   "source": [
    "# Create visualization of feature importance\n",
    "chart = sns.barplot(data=features_df, x=\"Importance\", y=\"Feature\", orient='h').set(title='Feature Importance')\n",
    "sns.set(rc={'figure.figsize':(20,10)})"
   ]
  },
  {
   "cell_type": "code",
   "execution_count": null,
   "id": "e2bc972a",
   "metadata": {},
   "outputs": [],
   "source": []
  }
 ],
 "metadata": {
  "kernelspec": {
   "display_name": "mlenv",
   "language": "python",
   "name": "mlenv"
  },
  "language_info": {
   "codemirror_mode": {
    "name": "ipython",
    "version": 3
   },
   "file_extension": ".py",
   "mimetype": "text/x-python",
   "name": "python",
   "nbconvert_exporter": "python",
   "pygments_lexer": "ipython3",
   "version": "3.7.13"
  }
 },
 "nbformat": 4,
 "nbformat_minor": 5
}
